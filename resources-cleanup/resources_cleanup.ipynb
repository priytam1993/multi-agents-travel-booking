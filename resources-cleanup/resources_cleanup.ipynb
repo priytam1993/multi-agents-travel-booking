{
 "cells": [
  {
   "cell_type": "markdown",
   "id": "fb8d63a2-913e-498a-a01a-5e66a39bf3e7",
   "metadata": {
    "pycharm": {
     "name": "#%% md\n"
    }
   },
   "source": [
    "# Lab 5. Conclusion / Clean Up"
   ]
  },
  {
   "cell_type": "markdown",
   "id": "63678eaa-8830-4cbe-94af-5ebd8b0e03e0",
   "metadata": {
    "pycharm": {
     "name": "#%% md\n"
    }
   },
   "source": [
    "## Conclusion\n",
    "\n",
    "Congratulations!\n",
    "\n",
    "You have been completed all labs for this session. Now you're able to understand how Amazon Bedrock and Agents work, and also, how to orchestrate a multi-step task/workflow using Amazon Bedrock Multi-Agent Collaboration feature.\n",
    "\n",
    "This is an **optional** lab to delete created resources from your AWS account.\n",
    "\n",
    "## Setup\n",
    "\n",
    "Make sure that your boto3 version is the latest one.\n",
    "\n",
    "If not, return no [notebook 1](../1-energy-forecast/1_forecasting_agent.ipynb) and run Setup block again."
   ]
  },
  {
   "cell_type": "code",
   "execution_count": 2,
   "id": "b531fbae-738a-499c-b2d8-3c61f2aec0ee",
   "metadata": {
    "pycharm": {
     "name": "#%%\n"
    }
   },
   "outputs": [
    {
     "name": "stdout",
     "output_type": "stream",
     "text": [
      "Welcome to the Glue Interactive Sessions Kernel\n",
      "For more information on available magic commands, please type %help in any new cell.\n",
      "\n",
      "Please view our Getting Started page to access the most up-to-date information on the Interactive Sessions kernel: https://docs.aws.amazon.com/glue/latest/dg/interactive-sessions.html\n",
      "Installed kernel version: 1.0.9 \n",
      "aioboto3 @ file:///home/conda/feedstock_root/build_artifacts/aioboto3_1742196379442/work\n",
      "boto3==1.38.18\n"
     ]
    }
   ],
   "source": [
    "!pip freeze | grep boto3"
   ]
  },
  {
   "cell_type": "markdown",
   "id": "1d20d4f7",
   "metadata": {
    "pycharm": {
     "name": "#%% md\n"
    }
   },
   "source": [
    "Restart kernel for packages to take effect"
   ]
  },
  {
   "cell_type": "code",
   "execution_count": 3,
   "id": "eb365df3",
   "metadata": {
    "pycharm": {
     "name": "#%%\n"
    }
   },
   "outputs": [
    {
     "name": "stdout",
     "output_type": "stream",
     "text": [
      "Trying to create a Glue session for the kernel.\n",
      "Session Type: etl\n",
      "Session ID: e560b4c3-7c6c-4ee5-852d-7207662c7b3d\n",
      "Applying the following default arguments:\n",
      "--glue_kernel_version 1.0.9\n",
      "--enable-glue-datacatalog true\n"
     ]
    },
    {
     "name": "stderr",
     "output_type": "stream",
     "text": [
      "Following exception encountered while creating session: An error occurred (AccessDeniedException) when calling the CreateSession operation: User: arn:aws:sts::225584133776:assumed-role/agents-workshop-studio-SageMakerExecutionRole-zywY2YboLzXh/SageMaker is not authorized to perform: glue:CreateSession on resource: arn:aws:glue:us-west-2:225584133776:session/e560b4c3-7c6c-4ee5-852d-7207662c7b3d because no identity-based policy allows the glue:CreateSession action \n",
      "\n",
      "Error message: User: arn:aws:sts::225584133776:assumed-role/agents-workshop-studio-SageMakerExecutionRole-zywY2YboLzXh/SageMaker is not authorized to perform: glue:CreateSession on resource: arn:aws:glue:us-west-2:225584133776:session/e560b4c3-7c6c-4ee5-852d-7207662c7b3d because no identity-based policy allows the glue:CreateSession action \n",
      "\n",
      "Traceback (most recent call last):\n",
      "  File \"/opt/conda/lib/python3.12/site-packages/aws_glue_interactive_sessions_kernel/glue_kernel_utils/KernelGateway.py\", line 104, in create_session\n",
      "    response = self.glue_client.create_session(\n",
      "               ^^^^^^^^^^^^^^^^^^^^^^^^^^^^^^^^\n",
      "  File \"/opt/conda/lib/python3.12/site-packages/botocore/client.py\", line 595, in _api_call\n",
      "    return self._make_api_call(operation_name, kwargs)\n",
      "           ^^^^^^^^^^^^^^^^^^^^^^^^^^^^^^^^^^^^^^^^^^^\n",
      "  File \"/opt/conda/lib/python3.12/site-packages/botocore/context.py\", line 123, in wrapper\n",
      "    return func(*args, **kwargs)\n",
      "           ^^^^^^^^^^^^^^^^^^^^^\n",
      "  File \"/opt/conda/lib/python3.12/site-packages/botocore/client.py\", line 1058, in _make_api_call\n",
      "    raise error_class(parsed_response, operation_name)\n",
      "botocore.errorfactory.AccessDeniedException: An error occurred (AccessDeniedException) when calling the CreateSession operation: User: arn:aws:sts::225584133776:assumed-role/agents-workshop-studio-SageMakerExecutionRole-zywY2YboLzXh/SageMaker is not authorized to perform: glue:CreateSession on resource: arn:aws:glue:us-west-2:225584133776:session/e560b4c3-7c6c-4ee5-852d-7207662c7b3d because no identity-based policy allows the glue:CreateSession action\n",
      "Exception encountered while creating session: An error occurred (AccessDeniedException) when calling the CreateSession operation: User: arn:aws:sts::225584133776:assumed-role/agents-workshop-studio-SageMakerExecutionRole-zywY2YboLzXh/SageMaker is not authorized to perform: glue:CreateSession on resource: arn:aws:glue:us-west-2:225584133776:session/e560b4c3-7c6c-4ee5-852d-7207662c7b3d because no identity-based policy allows the glue:CreateSession action \n",
      "Traceback (most recent call last):\n",
      "  File \"/opt/conda/lib/python3.12/site-packages/aws_glue_interactive_sessions_kernel/glue_kernel_base/BaseKernel.py\", line 168, in do_execute\n",
      "    self.create_session()\n",
      "  File \"/opt/conda/lib/python3.12/site-packages/aws_glue_interactive_sessions_kernel/glue_kernel_base/BaseKernel.py\", line 592, in create_session\n",
      "    response = self.kernel_gateway.create_session(\n",
      "               ^^^^^^^^^^^^^^^^^^^^^^^^^^^^^^^^^^^\n",
      "  File \"/opt/conda/lib/python3.12/site-packages/aws_glue_interactive_sessions_kernel/glue_kernel_utils/KernelGateway.py\", line 104, in create_session\n",
      "    response = self.glue_client.create_session(\n",
      "               ^^^^^^^^^^^^^^^^^^^^^^^^^^^^^^^^\n",
      "  File \"/opt/conda/lib/python3.12/site-packages/botocore/client.py\", line 595, in _api_call\n",
      "    return self._make_api_call(operation_name, kwargs)\n",
      "           ^^^^^^^^^^^^^^^^^^^^^^^^^^^^^^^^^^^^^^^^^^^\n",
      "  File \"/opt/conda/lib/python3.12/site-packages/botocore/context.py\", line 123, in wrapper\n",
      "    return func(*args, **kwargs)\n",
      "           ^^^^^^^^^^^^^^^^^^^^^\n",
      "  File \"/opt/conda/lib/python3.12/site-packages/botocore/client.py\", line 1058, in _make_api_call\n",
      "    raise error_class(parsed_response, operation_name)\n",
      "botocore.errorfactory.AccessDeniedException: An error occurred (AccessDeniedException) when calling the CreateSession operation: User: arn:aws:sts::225584133776:assumed-role/agents-workshop-studio-SageMakerExecutionRole-zywY2YboLzXh/SageMaker is not authorized to perform: glue:CreateSession on resource: arn:aws:glue:us-west-2:225584133776:session/e560b4c3-7c6c-4ee5-852d-7207662c7b3d because no identity-based policy allows the glue:CreateSession action\n"
     ]
    }
   ],
   "source": [
    "import IPython\n",
    "\n",
    "# IPython.Application.instance().kernel.do_shutdown(True)"
   ]
  },
  {
   "cell_type": "markdown",
   "id": "0bb52531",
   "metadata": {
    "pycharm": {
     "name": "#%% md\n"
    }
   },
   "source": [
    "On following section, we're adding `agents.py` and `knowledge_bases.py` on Python path, so the files can be recognized and invoked."
   ]
  },
  {
   "cell_type": "code",
   "execution_count": 4,
   "id": "1324f145",
   "metadata": {
    "pycharm": {
     "name": "#%%\n"
    }
   },
   "outputs": [
    {
     "name": "stdout",
     "output_type": "stream",
     "text": [
      "Trying to create a Glue session for the kernel.\n",
      "Session Type: etl\n",
      "Session ID: e560b4c3-7c6c-4ee5-852d-7207662c7b3d\n",
      "Applying the following default arguments:\n",
      "--glue_kernel_version 1.0.9\n",
      "--enable-glue-datacatalog true\n"
     ]
    },
    {
     "name": "stderr",
     "output_type": "stream",
     "text": [
      "Following exception encountered while creating session: An error occurred (AccessDeniedException) when calling the CreateSession operation: User: arn:aws:sts::225584133776:assumed-role/agents-workshop-studio-SageMakerExecutionRole-zywY2YboLzXh/SageMaker is not authorized to perform: glue:CreateSession on resource: arn:aws:glue:us-west-2:225584133776:session/e560b4c3-7c6c-4ee5-852d-7207662c7b3d because no identity-based policy allows the glue:CreateSession action \n",
      "\n",
      "Error message: User: arn:aws:sts::225584133776:assumed-role/agents-workshop-studio-SageMakerExecutionRole-zywY2YboLzXh/SageMaker is not authorized to perform: glue:CreateSession on resource: arn:aws:glue:us-west-2:225584133776:session/e560b4c3-7c6c-4ee5-852d-7207662c7b3d because no identity-based policy allows the glue:CreateSession action \n",
      "\n",
      "Traceback (most recent call last):\n",
      "  File \"/opt/conda/lib/python3.12/site-packages/aws_glue_interactive_sessions_kernel/glue_kernel_utils/KernelGateway.py\", line 104, in create_session\n",
      "    response = self.glue_client.create_session(\n",
      "               ^^^^^^^^^^^^^^^^^^^^^^^^^^^^^^^^\n",
      "  File \"/opt/conda/lib/python3.12/site-packages/botocore/client.py\", line 595, in _api_call\n",
      "    return self._make_api_call(operation_name, kwargs)\n",
      "           ^^^^^^^^^^^^^^^^^^^^^^^^^^^^^^^^^^^^^^^^^^^\n",
      "  File \"/opt/conda/lib/python3.12/site-packages/botocore/context.py\", line 123, in wrapper\n",
      "    return func(*args, **kwargs)\n",
      "           ^^^^^^^^^^^^^^^^^^^^^\n",
      "  File \"/opt/conda/lib/python3.12/site-packages/botocore/client.py\", line 1058, in _make_api_call\n",
      "    raise error_class(parsed_response, operation_name)\n",
      "botocore.errorfactory.AccessDeniedException: An error occurred (AccessDeniedException) when calling the CreateSession operation: User: arn:aws:sts::225584133776:assumed-role/agents-workshop-studio-SageMakerExecutionRole-zywY2YboLzXh/SageMaker is not authorized to perform: glue:CreateSession on resource: arn:aws:glue:us-west-2:225584133776:session/e560b4c3-7c6c-4ee5-852d-7207662c7b3d because no identity-based policy allows the glue:CreateSession action\n",
      "Exception encountered while creating session: An error occurred (AccessDeniedException) when calling the CreateSession operation: User: arn:aws:sts::225584133776:assumed-role/agents-workshop-studio-SageMakerExecutionRole-zywY2YboLzXh/SageMaker is not authorized to perform: glue:CreateSession on resource: arn:aws:glue:us-west-2:225584133776:session/e560b4c3-7c6c-4ee5-852d-7207662c7b3d because no identity-based policy allows the glue:CreateSession action \n",
      "Traceback (most recent call last):\n",
      "  File \"/opt/conda/lib/python3.12/site-packages/aws_glue_interactive_sessions_kernel/glue_kernel_base/BaseKernel.py\", line 168, in do_execute\n",
      "    self.create_session()\n",
      "  File \"/opt/conda/lib/python3.12/site-packages/aws_glue_interactive_sessions_kernel/glue_kernel_base/BaseKernel.py\", line 592, in create_session\n",
      "    response = self.kernel_gateway.create_session(\n",
      "               ^^^^^^^^^^^^^^^^^^^^^^^^^^^^^^^^^^^\n",
      "  File \"/opt/conda/lib/python3.12/site-packages/aws_glue_interactive_sessions_kernel/glue_kernel_utils/KernelGateway.py\", line 104, in create_session\n",
      "    response = self.glue_client.create_session(\n",
      "               ^^^^^^^^^^^^^^^^^^^^^^^^^^^^^^^^\n",
      "  File \"/opt/conda/lib/python3.12/site-packages/botocore/client.py\", line 595, in _api_call\n",
      "    return self._make_api_call(operation_name, kwargs)\n",
      "           ^^^^^^^^^^^^^^^^^^^^^^^^^^^^^^^^^^^^^^^^^^^\n",
      "  File \"/opt/conda/lib/python3.12/site-packages/botocore/context.py\", line 123, in wrapper\n",
      "    return func(*args, **kwargs)\n",
      "           ^^^^^^^^^^^^^^^^^^^^^\n",
      "  File \"/opt/conda/lib/python3.12/site-packages/botocore/client.py\", line 1058, in _make_api_call\n",
      "    raise error_class(parsed_response, operation_name)\n",
      "botocore.errorfactory.AccessDeniedException: An error occurred (AccessDeniedException) when calling the CreateSession operation: User: arn:aws:sts::225584133776:assumed-role/agents-workshop-studio-SageMakerExecutionRole-zywY2YboLzXh/SageMaker is not authorized to perform: glue:CreateSession on resource: arn:aws:glue:us-west-2:225584133776:session/e560b4c3-7c6c-4ee5-852d-7207662c7b3d because no identity-based policy allows the glue:CreateSession action\n"
     ]
    }
   ],
   "source": [
    "import sys\n",
    "\n",
    "sys.path.insert(0, \".\")\n",
    "sys.path.insert(1, \"..\")\n",
    "\n",
    "from utils.bedrock_agent_helper import (\n",
    "    AgentsForAmazonBedrock\n",
    ")\n",
    "from utils.knowledge_base_helper import (\n",
    "    KnowledgeBasesForAmazonBedrock\n",
    ")\n",
    "agents = AgentsForAmazonBedrock()\n",
    "kb = KnowledgeBasesForAmazonBedrock()"
   ]
  },
  {
   "cell_type": "markdown",
   "id": "997a4e44",
   "metadata": {
    "pycharm": {
     "name": "#%% md\n"
    }
   },
   "source": [
    "Retrieve variables from previous notebooks to clean up resources."
   ]
  },
  {
   "cell_type": "code",
   "execution_count": null,
   "id": "99986c91",
   "metadata": {
    "pycharm": {
     "name": "#%%\n"
    }
   },
   "outputs": [],
   "source": [
    "%store -r"
   ]
  },
  {
   "cell_type": "markdown",
   "id": "e5327b71",
   "metadata": {
    "pycharm": {
     "name": "#%% md\n"
    }
   },
   "source": [
    "## Clean Up Resources\n",
    "\n",
    "Following blocks will delete resources created on previous labs."
   ]
  },
  {
   "cell_type": "markdown",
   "id": "47adb2e9-61a2-47d4-aa82-71dcd2e19400",
   "metadata": {
    "pycharm": {
     "name": "#%% md\n"
    }
   },
   "source": [
    "### Delete supervisor agent"
   ]
  },
  {
   "cell_type": "code",
   "execution_count": null,
   "id": "14610a10-a0f2-477d-a453-ab442128288a",
   "metadata": {
    "pycharm": {
     "name": "#%%\n"
    }
   },
   "outputs": [],
   "source": [
    "agents.delete_agent(agent_name=energy_agent_name)"
   ]
  },
  {
   "cell_type": "markdown",
   "id": "77fa8b66-7be8-442a-addd-387d3700715a",
   "metadata": {
    "pycharm": {
     "name": "#%% md\n"
    }
   },
   "source": [
    "### Delete subagents"
   ]
  },
  {
   "cell_type": "code",
   "execution_count": null,
   "id": "239da908-2115-489d-9489-2aa89b9c4c30",
   "metadata": {
    "pycharm": {
     "name": "#%%\n"
    }
   },
   "outputs": [],
   "source": [
    "agents.delete_agent(forecast_agent_name)"
   ]
  },
  {
   "cell_type": "code",
   "execution_count": null,
   "id": "506e1df3-722c-4f5c-8bb9-51d111069c96",
   "metadata": {
    "pycharm": {
     "name": "#%%\n"
    }
   },
   "outputs": [],
   "source": [
    "agents.delete_agent(solar_agent_name)"
   ]
  },
  {
   "cell_type": "code",
   "execution_count": null,
   "id": "550bf448-e761-4b17-8bb4-1d29394ea733",
   "metadata": {
    "pycharm": {
     "name": "#%%\n"
    }
   },
   "outputs": [],
   "source": [
    "agents.delete_agent(peak_agent_name)"
   ]
  },
  {
   "cell_type": "markdown",
   "id": "df79e349",
   "metadata": {
    "pycharm": {
     "name": "#%% md\n"
    }
   },
   "source": [
    "### Delete all Lambda functions\n",
    "\n",
    "Checking that all needed variables were restored:"
   ]
  },
  {
   "cell_type": "code",
   "execution_count": null,
   "id": "7365ba1a",
   "metadata": {
    "pycharm": {
     "name": "#%%\n"
    }
   },
   "outputs": [],
   "source": [
    "forecast_lambda_name, forecast_dynamodb, solar_lambda_name, solar_dynamodb, peak_lambda_name, peak_dynamodb"
   ]
  },
  {
   "cell_type": "code",
   "execution_count": null,
   "id": "62dba01a",
   "metadata": {
    "pycharm": {
     "name": "#%%\n"
    }
   },
   "outputs": [],
   "source": [
    "agents.delete_lambda(forecast_lambda_name, dynamoDB_table=forecast_dynamodb)"
   ]
  },
  {
   "cell_type": "code",
   "execution_count": null,
   "id": "6934c418",
   "metadata": {
    "pycharm": {
     "name": "#%%\n"
    }
   },
   "outputs": [],
   "source": [
    "agents.delete_lambda(solar_lambda_name, dynamoDB_table=solar_dynamodb)"
   ]
  },
  {
   "cell_type": "code",
   "execution_count": null,
   "id": "f73f3b63",
   "metadata": {
    "pycharm": {
     "name": "#%%\n"
    }
   },
   "outputs": [],
   "source": [
    "agents.delete_lambda(peak_lambda_name, dynamoDB_table=peak_dynamodb)"
   ]
  },
  {
   "cell_type": "markdown",
   "id": "2c74e29f",
   "metadata": {
    "pycharm": {
     "name": "#%% md\n"
    }
   },
   "source": [
    "### Delete Knowledge Base\n",
    "\n",
    "Checking that all needed variables were restored:"
   ]
  },
  {
   "cell_type": "code",
   "execution_count": null,
   "id": "9acbdfd2",
   "metadata": {
    "pycharm": {
     "name": "#%%\n"
    }
   },
   "outputs": [],
   "source": [
    "forecast_kb, solar_kb, "
   ]
  },
  {
   "cell_type": "code",
   "execution_count": null,
   "id": "43c8c6da",
   "metadata": {
    "pycharm": {
     "name": "#%%\n"
    }
   },
   "outputs": [],
   "source": [
    "kb.delete_kb(forecast_kb)"
   ]
  },
  {
   "cell_type": "code",
   "execution_count": null,
   "id": "652f477a",
   "metadata": {
    "pycharm": {
     "name": "#%%\n"
    }
   },
   "outputs": [],
   "source": [
    "kb.delete_kb(solar_kb)"
   ]
  },
  {
   "cell_type": "code",
   "execution_count": null,
   "id": "be9a4f58",
   "metadata": {},
   "outputs": [],
   "source": [
    "kb.delete_kb(peak_kb)"
   ]
  },
  {
   "cell_type": "markdown",
   "id": "7f336109-9d4b-46f2-8821-c5b07ec3df7d",
   "metadata": {},
   "source": [
    "### Delete BDA project"
   ]
  },
  {
   "cell_type": "markdown",
   "id": "3705d199-4098-4ef1-8646-5d7c7f816ff2",
   "metadata": {
    "pycharm": {
     "name": "#%% md\n"
    }
   },
   "source": [
    "## Congratulations!\n",
    "You have now completed this lab!"
   ]
  }
 ],
 "metadata": {
  "kernelspec": {
   "display_name": "Glue PySpark",
   "language": "python",
   "name": "glue_pyspark"
  },
  "language_info": {
   "codemirror_mode": {
    "name": "python",
    "version": 3
   },
   "file_extension": ".py",
   "mimetype": "text/x-python",
   "name": "Python_Glue_Session",
   "pygments_lexer": "python3"
  }
 },
 "nbformat": 4,
 "nbformat_minor": 5
}
