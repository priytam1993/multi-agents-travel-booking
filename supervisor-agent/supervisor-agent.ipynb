{
 "cells": [
  {
   "cell_type": "code",
   "execution_count": 1,
   "id": "4c76cf71-e304-4a60-9476-f5d9084df59e",
   "metadata": {},
   "outputs": [
    {
     "name": "stdout",
     "output_type": "stream",
     "text": [
      "aioboto3 @ file:///home/conda/feedstock_root/build_artifacts/aioboto3_1742196379442/work\n",
      "boto3==1.38.18\n"
     ]
    }
   ],
   "source": [
    "!pip freeze | grep boto3"
   ]
  },
  {
   "cell_type": "code",
   "execution_count": 32,
   "id": "838441c6-c21d-4b1a-a5a4-b02b8b07696d",
   "metadata": {},
   "outputs": [
    {
     "name": "stdout",
     "output_type": "stream",
     "text": [
      "Your resource suffix is travel_booking_ca3e24de\n"
     ]
    }
   ],
   "source": [
    "import uuid\n",
    "import os\n",
    "from pathlib import Path\n",
    "\n",
    "def get_or_create_unique_resources_identifier():\n",
    "    unique_resources_identifier_file = '../.unique_resources_identifier'\n",
    "    \n",
    "    if os.path.exists(unique_resources_identifier_file):\n",
    "        with open(unique_resources_identifier_file, 'r') as f:\n",
    "            return f.read().strip()\n",
    "    else:\n",
    "        unique_resources_identifier = str(uuid.uuid4())[:8]\n",
    "        with open(unique_resources_identifier_file, 'w') as f:\n",
    "            f.write(unique_resources_identifier)\n",
    "        return unique_resources_identifier\n",
    "\n",
    "unique_resources_identifier = get_or_create_unique_resources_identifier()\n",
    "resource_suffix = f\"{unique_resources_identifier}\"\n",
    "print(\"Your resource suffix is\", resource_suffix)"
   ]
  },
  {
   "cell_type": "code",
   "execution_count": 33,
   "id": "d620e7da-67eb-4d60-b96e-6cd1038a20c4",
   "metadata": {},
   "outputs": [
    {
     "name": "stdout",
     "output_type": "stream",
     "text": [
      "225584133776\n"
     ]
    }
   ],
   "source": [
    "import boto3\n",
    "import os\n",
    "import json\n",
    "import time\n",
    "from datetime import datetime\n",
    "from dateutil.relativedelta import relativedelta\n",
    "\n",
    "sts_client = boto3.client('sts')\n",
    "session = boto3.session.Session()\n",
    "\n",
    "account_id = sts_client.get_caller_identity()[\"Account\"]\n",
    "region = session.region_name\n",
    "\n",
    "s3_client = boto3.client('s3', region)\n",
    "bedrock_client = boto3.client('bedrock-runtime', region)\n",
    "\n",
    "agent_foundation_model = [\n",
    "    'anthropic.claude-3-5-sonnet-20240620-v1:0',\n",
    "    'anthropic.claude-3-sonnet-20240229-v1:0',\n",
    "    'anthropic.claude-3-haiku-20240307-v1:0',\n",
    "    'amazon.titan-embed-text-v2:0',\n",
    "    'amazon.titan-embed-image-v1',\n",
    "    'amazon.titan-text-express-v1',\n",
    "    'amazon.titan-text-lite-v1',\n",
    "    'ai21.j2-mid-v1',\n",
    "    'ai21.j2-ultra-v1',\n",
    "    'cohere.command-text-v14',\n",
    "    'cohere.embed-english-v3',\n",
    "    'cohere.embed-multilingual-v3',\n",
    "    'meta.llama2-13b-chat-v1',\n",
    "    'meta.llama2-70b-chat-v1',\n",
    "    'amazon.nova-pro-v1:0'\n",
    "]\n",
    "print(account_id)\n",
    "curr_month = datetime.now()"
   ]
  },
  {
   "cell_type": "code",
   "execution_count": 4,
   "id": "4ed486b7-ea11-48aa-bd11-bcced779a6bd",
   "metadata": {},
   "outputs": [],
   "source": [
    "# Define agent names and IDs\n",
    "supervisor_agent_name = f\"supervisor-agent-{resource_suffix}\"\n",
    "supervisor_lambda_name = f\"fn-supervisor-agent-{resource_suffix}\""
   ]
  },
  {
   "cell_type": "code",
   "execution_count": 34,
   "id": "d003f128-221a-44d0-8c42-9eadcd1ab691",
   "metadata": {},
   "outputs": [],
   "source": [
    "# Import helper modules\n",
    "import sys\n",
    "sys.path.insert(0, \".\")\n",
    "sys.path.insert(1, \"..\")\n",
    "\n",
    "from utils.bedrock_agent_helper import (\n",
    "    AgentsForAmazonBedrock\n",
    ")\n",
    "agents = AgentsForAmazonBedrock()"
   ]
  },
  {
   "cell_type": "code",
   "execution_count": 35,
   "id": "897aa24b-fd24-4fb4-a779-baf32c1c834a",
   "metadata": {},
   "outputs": [],
   "source": [
    "# Retrieve stored agent information\n",
    "%store -r hr_agent_alias_id\n",
    "%store -r flight_agent_alias_id\n",
    "%store -r hotel_agent_alias_id\n",
    "%store -r hr_agent_alias_arn\n",
    "%store -r flight_agent_alias_arn\n",
    "%store -r hotel_agent_alias_arn"
   ]
  },
  {
   "cell_type": "code",
   "execution_count": 16,
   "id": "d7d9009f-c208-455b-9080-11e8346708e8",
   "metadata": {},
   "outputs": [
    {
     "name": "stdout",
     "output_type": "stream",
     "text": [
      "hr_agent_alias_idJUZ0EVGCPO\n",
      "flight_agent_alias_id0JR7ILBRBW\n",
      "hotel_agent_alias_id0TJYBOB5UV\n",
      "hr_agent_alias_arnarn:aws:bedrock:us-west-2:225584133776:agent-alias/XQJ6KAV7P1/JUZ0EVGCPO\n",
      "flight_agent_alias_arnarn:aws:bedrock:us-west-2:225584133776:agent-alias/GFBQWRL2CH/0JR7ILBRBW\n",
      "hotel_agent_alias_arnarn:aws:bedrock:us-west-2:225584133776:agent-alias/SLJHZCNZNF/0TJYBOB5UV\n"
     ]
    }
   ],
   "source": [
    "print('hr_agent_alias_id'+ hr_agent_alias_id)\n",
    "print('flight_agent_alias_id'+ flight_agent_alias_id)\n",
    "print('hotel_agent_alias_id'+ hotel_agent_alias_id)\n",
    "print('hr_agent_alias_arn'+ hr_agent_alias_arn)\n",
    "print('flight_agent_alias_arn'+ flight_agent_alias_arn)\n",
    "print('hotel_agent_alias_arn'+ hotel_agent_alias_arn)"
   ]
  },
  {
   "cell_type": "code",
   "execution_count": 36,
   "id": "b1c7eab7-d9e5-4c16-a434-88ab68feaf98",
   "metadata": {},
   "outputs": [],
   "source": [
    "# Create supervisor agent with detailed instructions\n",
    "supervisor_agent_instructions = \"\"\"\n",
    "You are the Supervisor Agent responsible for managing the entire travel booking workflow for employees. You will coordinate between the HR Agent, Flight Booking Agent, and Hotel Booking Agent to provide a complete travel booking experience.\n",
    "\n",
    "When a user starts a conversation:\n",
    "\n",
    "1. First, identify the user by asking for their Employee ID.\n",
    "\n",
    "2. Once you have the Employee ID, tell the user you're checking their profile with HR.\n",
    "   - Mention: \"Let me check your profile with our HR system.\"\n",
    "   - Then ask about their travel needs: \"What are your travel plans? Please provide your origin, destination, and dates.\"\n",
    "\n",
    "3. When the user provides travel details:\n",
    "   - Acknowledge their request: \"Thank you for providing your travel details.\"\n",
    "   - Tell them you'll check flight options: \"Let me find suitable flight options for you.\"\n",
    "   - After discussing flights, move to hotel options: \"Now, let's find a hotel for your stay.\"\n",
    "\n",
    "4. After collecting both flight and hotel information:\n",
    "   - Summarize the bookings: \"Here's a summary of your bookings:\"\n",
    "   - List flight details (airline, flight number, date, time, price)\n",
    "   - List hotel details (name, check-in/out dates, room type, price)\n",
    "   - Calculate and show total cost\n",
    "\n",
    "5. Conclude with payment information:\n",
    "   - \"Your total cost is $X. Please proceed to our payment portal to complete your booking.\"\n",
    "\n",
    "Important guidelines:\n",
    "- Always maintain a professional and helpful tone\n",
    "- Keep the conversation flowing naturally between different booking stages\n",
    "- If you need specific employee information, mention that you're checking with HR\n",
    "- Present flight and hotel options clearly with all relevant details\n",
    "- Ensure all bookings comply with company travel policies\n",
    "- If any issues arise, explain them clearly and suggest alternatives\n",
    "\n",
    "Remember: You are the coordinator between specialized agents. Your role is to make the booking process seamless for the user while ensuring all company policies are followed.\n",
    "\"\"\"\n",
    "\n"
   ]
  },
  {
   "cell_type": "code",
   "execution_count": 38,
   "id": "12b51703-464e-495a-a9f0-02ce3d7865b6",
   "metadata": {},
   "outputs": [
    {
     "ename": "ConflictException",
     "evalue": "An error occurred (ConflictException) when calling the CreateAgent operation: Could not perform Create operation, since the supervisor-agent-travel_booking_ca3e24de (id: NPEA338HVM) with the same name supervisor-agent-travel_booking_ca3e24de already exists",
     "output_type": "error",
     "traceback": [
      "\u001b[0;31m---------------------------------------------------------------------------\u001b[0m",
      "\u001b[0;31mConflictException\u001b[0m                         Traceback (most recent call last)",
      "Cell \u001b[0;32mIn[38], line 2\u001b[0m\n\u001b[1;32m      1\u001b[0m \u001b[38;5;66;03m# Create the supervisor agent\u001b[39;00m\n\u001b[0;32m----> 2\u001b[0m supervisor_agent \u001b[38;5;241m=\u001b[39m \u001b[43magents\u001b[49m\u001b[38;5;241;43m.\u001b[39;49m\u001b[43mcreate_agent\u001b[49m\u001b[43m(\u001b[49m\n\u001b[1;32m      3\u001b[0m \u001b[43m    \u001b[49m\u001b[43magent_name\u001b[49m\u001b[38;5;241;43m=\u001b[39;49m\u001b[43msupervisor_agent_name\u001b[49m\u001b[43m,\u001b[49m\n\u001b[1;32m      4\u001b[0m \u001b[43m    \u001b[49m\u001b[43magent_description\u001b[49m\u001b[38;5;241;43m=\u001b[39;49m\u001b[38;5;124;43m\"\u001b[39;49m\u001b[38;5;124;43mSupervisor agent for orchestrating travel booking workflow\u001b[39;49m\u001b[38;5;124;43m\"\u001b[39;49m\u001b[43m,\u001b[49m\n\u001b[1;32m      5\u001b[0m \u001b[43m    \u001b[49m\u001b[43magent_instructions\u001b[49m\u001b[38;5;241;43m=\u001b[39;49m\u001b[43msupervisor_agent_instructions\u001b[49m\u001b[43m,\u001b[49m\n\u001b[1;32m      6\u001b[0m \u001b[43m    \u001b[49m\u001b[43mmodel_ids\u001b[49m\u001b[38;5;241;43m=\u001b[39;49m\u001b[43m[\u001b[49m\u001b[38;5;124;43m'\u001b[39;49m\u001b[38;5;124;43manthropic.claude-3-sonnet-20240229-v1:0\u001b[39;49m\u001b[38;5;124;43m'\u001b[39;49m\u001b[43m]\u001b[49m\u001b[43m,\u001b[49m\n\u001b[1;32m      7\u001b[0m \u001b[43m    \u001b[49m\u001b[43magent_collaboration\u001b[49m\u001b[38;5;241;43m=\u001b[39;49m\u001b[38;5;124;43m'\u001b[39;49m\u001b[38;5;124;43mSUPERVISOR_ROUTER\u001b[39;49m\u001b[38;5;124;43m'\u001b[39;49m\n\u001b[1;32m      8\u001b[0m \u001b[43m)\u001b[49m\n",
      "File \u001b[0;32m~/mutli-agent-work-travel-booking/supervisor-agent/../utils/bedrock_agent_helper.py:1062\u001b[0m, in \u001b[0;36mAgentsForAmazonBedrock.create_agent\u001b[0;34m(self, agent_name, agent_description, agent_instructions, model_ids, kb_arns, agent_collaboration, routing_classifier_model, code_interpretation, guardrail_id, kb_id, verbose)\u001b[0m\n\u001b[1;32m   1060\u001b[0m             \u001b[38;5;28;01mif\u001b[39;00m verbose:\n\u001b[1;32m   1061\u001b[0m                 \u001b[38;5;28mprint\u001b[39m(\u001b[38;5;124mf\u001b[39m\u001b[38;5;124m\"\u001b[39m\u001b[38;5;124mGiving up on agent creation after 2 tries.\u001b[39m\u001b[38;5;124m\"\u001b[39m)\n\u001b[0;32m-> 1062\u001b[0m             \u001b[38;5;28;01mraise\u001b[39;00m e\n\u001b[1;32m   1064\u001b[0m \u001b[38;5;28;01mif\u001b[39;00m code_interpretation:\n\u001b[1;32m   1065\u001b[0m     \u001b[38;5;66;03m# possible time.sleep(15) needed here\u001b[39;00m\n\u001b[1;32m   1066\u001b[0m     \u001b[38;5;28mself\u001b[39m\u001b[38;5;241m.\u001b[39madd_code_interpreter(agent_name)\n",
      "File \u001b[0;32m~/mutli-agent-work-travel-booking/supervisor-agent/../utils/bedrock_agent_helper.py:1031\u001b[0m, in \u001b[0;36mAgentsForAmazonBedrock.create_agent\u001b[0;34m(self, agent_name, agent_description, agent_instructions, model_ids, kb_arns, agent_collaboration, routing_classifier_model, code_interpretation, guardrail_id, kb_id, verbose)\u001b[0m\n\u001b[1;32m   1029\u001b[0m \u001b[38;5;28;01mif\u001b[39;00m verbose:\n\u001b[1;32m   1030\u001b[0m     \u001b[38;5;28mprint\u001b[39m(\u001b[38;5;124mf\u001b[39m\u001b[38;5;124m\"\u001b[39m\u001b[38;5;124mkwargs: \u001b[39m\u001b[38;5;132;01m{\u001b[39;00m_kwargs\u001b[38;5;132;01m}\u001b[39;00m\u001b[38;5;124m\"\u001b[39m)\n\u001b[0;32m-> 1031\u001b[0m _create_agent_response \u001b[38;5;241m=\u001b[39m \u001b[38;5;28;43mself\u001b[39;49m\u001b[38;5;241;43m.\u001b[39;49m\u001b[43m_bedrock_agent_client\u001b[49m\u001b[38;5;241;43m.\u001b[39;49m\u001b[43mcreate_agent\u001b[49m\u001b[43m(\u001b[49m\n\u001b[1;32m   1032\u001b[0m \u001b[43m    \u001b[49m\u001b[43magentName\u001b[49m\u001b[38;5;241;43m=\u001b[39;49m\u001b[43magent_name\u001b[49m\u001b[43m,\u001b[49m\n\u001b[1;32m   1033\u001b[0m \u001b[43m    \u001b[49m\u001b[43magentResourceRoleArn\u001b[49m\u001b[38;5;241;43m=\u001b[39;49m\u001b[43m_role_arn\u001b[49m\u001b[43m,\u001b[49m\n\u001b[1;32m   1034\u001b[0m \u001b[43m    \u001b[49m\u001b[43mdescription\u001b[49m\u001b[38;5;241;43m=\u001b[39;49m\u001b[43magent_description\u001b[49m\u001b[38;5;241;43m.\u001b[39;49m\u001b[43mreplace\u001b[49m\u001b[43m(\u001b[49m\n\u001b[1;32m   1035\u001b[0m \u001b[43m        \u001b[49m\u001b[38;5;124;43m\"\u001b[39;49m\u001b[38;5;130;43;01m\\n\u001b[39;49;00m\u001b[38;5;124;43m\"\u001b[39;49m\u001b[43m,\u001b[49m\u001b[43m \u001b[49m\u001b[38;5;124;43m\"\u001b[39;49m\u001b[38;5;124;43m\"\u001b[39;49m\n\u001b[1;32m   1036\u001b[0m \u001b[43m    \u001b[49m\u001b[43m)\u001b[49m\u001b[43m,\u001b[49m\u001b[43m  \u001b[49m\u001b[38;5;66;43;03m# console doesn't like newlines for subsequent editing\u001b[39;49;00m\n\u001b[1;32m   1037\u001b[0m \u001b[43m    \u001b[49m\u001b[43midleSessionTTLInSeconds\u001b[49m\u001b[38;5;241;43m=\u001b[39;49m\u001b[38;5;241;43m1800\u001b[39;49m\u001b[43m,\u001b[49m\n\u001b[1;32m   1038\u001b[0m \u001b[43m    \u001b[49m\u001b[43mfoundationModel\u001b[49m\u001b[38;5;241;43m=\u001b[39;49m\u001b[43m_model_id\u001b[49m\u001b[43m,\u001b[49m\n\u001b[1;32m   1039\u001b[0m \u001b[43m    \u001b[49m\u001b[43minstruction\u001b[49m\u001b[38;5;241;43m=\u001b[39;49m\u001b[43magent_instructions\u001b[49m\u001b[43m,\u001b[49m\n\u001b[1;32m   1040\u001b[0m \u001b[43m    \u001b[49m\u001b[43magentCollaboration\u001b[49m\u001b[38;5;241;43m=\u001b[39;49m\u001b[43magent_collaboration\u001b[49m\u001b[43m,\u001b[49m\n\u001b[1;32m   1041\u001b[0m \u001b[43m    \u001b[49m\u001b[38;5;241;43m*\u001b[39;49m\u001b[38;5;241;43m*\u001b[39;49m\u001b[43m_kwargs\u001b[49m\u001b[43m,\u001b[49m\n\u001b[1;32m   1042\u001b[0m \u001b[43m\u001b[49m\u001b[43m)\u001b[49m\n\u001b[1;32m   1043\u001b[0m _agent_id \u001b[38;5;241m=\u001b[39m _create_agent_response[\u001b[38;5;124m\"\u001b[39m\u001b[38;5;124magent\u001b[39m\u001b[38;5;124m\"\u001b[39m][\u001b[38;5;124m\"\u001b[39m\u001b[38;5;124magentId\u001b[39m\u001b[38;5;124m\"\u001b[39m]\n\u001b[1;32m   1044\u001b[0m \u001b[38;5;28;01mif\u001b[39;00m verbose:\n",
      "File \u001b[0;32m/opt/conda/lib/python3.12/site-packages/botocore/client.py:595\u001b[0m, in \u001b[0;36mClientCreator._create_api_method.<locals>._api_call\u001b[0;34m(self, *args, **kwargs)\u001b[0m\n\u001b[1;32m    591\u001b[0m     \u001b[38;5;28;01mraise\u001b[39;00m \u001b[38;5;167;01mTypeError\u001b[39;00m(\n\u001b[1;32m    592\u001b[0m         \u001b[38;5;124mf\u001b[39m\u001b[38;5;124m\"\u001b[39m\u001b[38;5;132;01m{\u001b[39;00mpy_operation_name\u001b[38;5;132;01m}\u001b[39;00m\u001b[38;5;124m() only accepts keyword arguments.\u001b[39m\u001b[38;5;124m\"\u001b[39m\n\u001b[1;32m    593\u001b[0m     )\n\u001b[1;32m    594\u001b[0m \u001b[38;5;66;03m# The \"self\" in this scope is referring to the BaseClient.\u001b[39;00m\n\u001b[0;32m--> 595\u001b[0m \u001b[38;5;28;01mreturn\u001b[39;00m \u001b[38;5;28;43mself\u001b[39;49m\u001b[38;5;241;43m.\u001b[39;49m\u001b[43m_make_api_call\u001b[49m\u001b[43m(\u001b[49m\u001b[43moperation_name\u001b[49m\u001b[43m,\u001b[49m\u001b[43m \u001b[49m\u001b[43mkwargs\u001b[49m\u001b[43m)\u001b[49m\n",
      "File \u001b[0;32m/opt/conda/lib/python3.12/site-packages/botocore/context.py:123\u001b[0m, in \u001b[0;36mwith_current_context.<locals>.decorator.<locals>.wrapper\u001b[0;34m(*args, **kwargs)\u001b[0m\n\u001b[1;32m    121\u001b[0m \u001b[38;5;28;01mif\u001b[39;00m hook:\n\u001b[1;32m    122\u001b[0m     hook()\n\u001b[0;32m--> 123\u001b[0m \u001b[38;5;28;01mreturn\u001b[39;00m \u001b[43mfunc\u001b[49m\u001b[43m(\u001b[49m\u001b[38;5;241;43m*\u001b[39;49m\u001b[43margs\u001b[49m\u001b[43m,\u001b[49m\u001b[43m \u001b[49m\u001b[38;5;241;43m*\u001b[39;49m\u001b[38;5;241;43m*\u001b[39;49m\u001b[43mkwargs\u001b[49m\u001b[43m)\u001b[49m\n",
      "File \u001b[0;32m/opt/conda/lib/python3.12/site-packages/botocore/client.py:1058\u001b[0m, in \u001b[0;36mBaseClient._make_api_call\u001b[0;34m(self, operation_name, api_params)\u001b[0m\n\u001b[1;32m   1054\u001b[0m     error_code \u001b[38;5;241m=\u001b[39m error_info\u001b[38;5;241m.\u001b[39mget(\u001b[38;5;124m\"\u001b[39m\u001b[38;5;124mQueryErrorCode\u001b[39m\u001b[38;5;124m\"\u001b[39m) \u001b[38;5;129;01mor\u001b[39;00m error_info\u001b[38;5;241m.\u001b[39mget(\n\u001b[1;32m   1055\u001b[0m         \u001b[38;5;124m\"\u001b[39m\u001b[38;5;124mCode\u001b[39m\u001b[38;5;124m\"\u001b[39m\n\u001b[1;32m   1056\u001b[0m     )\n\u001b[1;32m   1057\u001b[0m     error_class \u001b[38;5;241m=\u001b[39m \u001b[38;5;28mself\u001b[39m\u001b[38;5;241m.\u001b[39mexceptions\u001b[38;5;241m.\u001b[39mfrom_code(error_code)\n\u001b[0;32m-> 1058\u001b[0m     \u001b[38;5;28;01mraise\u001b[39;00m error_class(parsed_response, operation_name)\n\u001b[1;32m   1059\u001b[0m \u001b[38;5;28;01melse\u001b[39;00m:\n\u001b[1;32m   1060\u001b[0m     \u001b[38;5;28;01mreturn\u001b[39;00m parsed_response\n",
      "\u001b[0;31mConflictException\u001b[0m: An error occurred (ConflictException) when calling the CreateAgent operation: Could not perform Create operation, since the supervisor-agent-travel_booking_ca3e24de (id: NPEA338HVM) with the same name supervisor-agent-travel_booking_ca3e24de already exists"
     ]
    }
   ],
   "source": [
    "# Create the supervisor agent\n",
    "supervisor_agent = agents.create_agent(\n",
    "    agent_name=supervisor_agent_name,\n",
    "    agent_description=\"Supervisor agent for orchestrating travel booking workflow\",\n",
    "    agent_instructions=supervisor_agent_instructions,\n",
    "    model_ids=['anthropic.claude-3-sonnet-20240229-v1:0'],\n",
    "    agent_collaboration='SUPERVISOR_ROUTER'\n",
    ")\n"
   ]
  },
  {
   "cell_type": "code",
   "execution_count": 39,
   "id": "6e5764c0-eff6-46e6-bc66-703097bb86d9",
   "metadata": {},
   "outputs": [
    {
     "name": "stdout",
     "output_type": "stream",
     "text": [
      "NPEA338HVM\n"
     ]
    }
   ],
   "source": [
    "supervisor_agent_id =supervisor_agent[0]\n",
    "print(supervisor_agent_id)"
   ]
  },
  {
   "cell_type": "code",
   "execution_count": 40,
   "id": "a6c645fa-f0c2-463c-a89c-3664ce5ad549",
   "metadata": {},
   "outputs": [],
   "source": [
    "# Add sub-agent groups\n",
    "hr_agent_group = {\n",
    "    \"sub_agent_association_name\": \"hr_agent\",\n",
    "    \"sub_agent_instruction\": \"HR agent for employee information and policy enforcement\",\n",
    "    \"sub_agent_alias_arn\": hr_agent_alias_arn,\n",
    "    'relay_conversation_history': 'TO_COLLABORATOR'\n",
    "\n",
    "}"
   ]
  },
  {
   "cell_type": "code",
   "execution_count": 41,
   "id": "18a8f56c-6343-4d63-9796-94d225ded97d",
   "metadata": {},
   "outputs": [],
   "source": [
    "flight_agent_group = {\n",
    "    \"sub_agent_association_name\": \"flight_agent\",\n",
    "    \"sub_agent_instruction\": \"Flight booking agent for searching and booking flights\",\n",
    "    \"sub_agent_alias_arn\": flight_agent_alias_arn,\n",
    "    'relay_conversation_history': 'TO_COLLABORATOR'\n",
    "\n",
    "}"
   ]
  },
  {
   "cell_type": "code",
   "execution_count": 42,
   "id": "c0d94c3e-4d4e-4f63-ac88-d3dca028f124",
   "metadata": {},
   "outputs": [],
   "source": [
    "hotel_agent_group = {\n",
    "    \"sub_agent_association_name\": \"hotel_agent\",\n",
    "    \"sub_agent_instruction\": \"Hotel booking agent for searching and booking accommodations\",\n",
    "    \"sub_agent_alias_arn\": hotel_agent_alias_arn,\n",
    "    'relay_conversation_history': 'TO_COLLABORATOR'\n",
    "\n",
    "}"
   ]
  },
  {
   "cell_type": "code",
   "execution_count": 43,
   "id": "2d792111-4b4c-4438-9475-2e1db7a29699",
   "metadata": {},
   "outputs": [],
   "source": [
    "sub_agents_list = [hr_agent_group,flight_agent_group,hotel_agent_group]"
   ]
  },
  {
   "cell_type": "code",
   "execution_count": 44,
   "id": "3c6a10e0-a228-40e7-ad9e-88598960592b",
   "metadata": {},
   "outputs": [
    {
     "name": "stdout",
     "output_type": "stream",
     "text": [
      "Waiting for agent status to change. Current status PREPARING\n",
      "Agent id NPEA338HVM current status: PREPARED\n",
      "Waiting for agent status to change. Current status PREPARING\n",
      "Agent id NPEA338HVM current status: PREPARED\n",
      "Waiting for agent status to change. Current status PREPARING\n",
      "Agent id NPEA338HVM current status: PREPARED\n"
     ]
    },
    {
     "data": {
      "text/plain": [
       "('TA4NDUBC8N',\n",
       " 'arn:aws:bedrock:us-west-2:225584133776:agent-alias/NPEA338HVM/TA4NDUBC8N')"
      ]
     },
     "execution_count": 44,
     "metadata": {},
     "output_type": "execute_result"
    }
   ],
   "source": [
    "# Add sub-agent groups to supervisor agent\n",
    "agents.associate_sub_agents(\n",
    "    supervisor_agent_id, sub_agents_list\n",
    ")"
   ]
  },
  {
   "cell_type": "code",
   "execution_count": 45,
   "id": "61b6dbff-722f-4fe4-bcf4-1550f188fa0e",
   "metadata": {},
   "outputs": [],
   "source": [
    "# Create agent alias for multi-agent collaboration\n",
    "supervisor_agent_alias_id, supervisor_agent_alias_arn = agents.create_agent_alias(\n",
    "    supervisor_agent[0], 'v1'\n",
    ")\n"
   ]
  },
  {
   "cell_type": "code",
   "execution_count": 47,
   "id": "abd9c29c-8438-4f8f-8556-39ae777df6c1",
   "metadata": {},
   "outputs": [
    {
     "name": "stdout",
     "output_type": "stream",
     "text": [
      "Stored 'supervisor_agent_alias_arn' (str)\n",
      "Stored 'supervisor_agent_alias_id' (str)\n",
      "Stored 'supervisor_agent_name' (str)\n",
      "Stored 'supervisor_agent_id' (str)\n"
     ]
    }
   ],
   "source": [
    "\n",
    "%store supervisor_agent_alias_arn\n",
    "%store supervisor_agent_alias_id\n",
    "%store supervisor_agent_name\n",
    "%store supervisor_agent_id\n"
   ]
  },
  {
   "cell_type": "code",
   "execution_count": 48,
   "id": "05a52c31-a47b-474e-93dd-294a7c97fc43",
   "metadata": {},
   "outputs": [
    {
     "name": "stdout",
     "output_type": "stream",
     "text": [
      "invokeAgent API request ID: 97af6b5d-7af7-46bd-aa0b-4ddba26a14aa\n",
      "invokeAgent API session ID: dcb41804-34cc-11f0-b805-06efa4e78d78\n",
      "\u001b[32m---- Step 1 ----\u001b[0m\n",
      "\u001b[34mClassifying request to immediately route to one collaborator if possible.\u001b[0m\n",
      "\u001b[35mRouting classifier did not find a matching collaborator. Reverting to 'SUPERVISOR' mode.\u001b[0m\n",
      "\u001b[33mRouting classifier took 0.8s, using 345 tokens (in: 332, out: 13).\n",
      "\u001b[0m\n",
      "\u001b[32m---- Step 2 ----\u001b[0m\n",
      "\u001b[33mTook 9.0s, using 1518 tokens (in: 1348, out: 170) to complete prior action, observe, orchestrate.\u001b[0m\n",
      "\u001b[34mTo start the travel booking process, I need to:\n",
      "1. Verify the employee ID with the HR agent\n",
      "2. Get the travel details from the user (origin, destination, dates)\n",
      "3. Check flight options with the flight agent\n",
      "4. Check hotel options with the hotel agent\n",
      "5. Provide a summary of the bookings and total cost\n",
      "6. Instruct the user on payment\u001b[0m\n",
      "\u001b[35mUsing sub-agent collaborator: 'hr_agent [XQJ6KAV7P1/JUZ0EVGCPO]' passing input text:\u001b[0m\n",
      "\u001b[35mVerifying employee ID E001\n",
      "\u001b[0m\n",
      "You haven't provided agents names. To do so provide a dictionary in the format {f'{agent_id}/{agent_alias_id}': f'{agent_name}'})\n",
      "You haven't provided agents names. To do so provide a dictionary in the format {f'{agent_id}/{agent_alias_id}': f'{agent_name}'})\n",
      "\u001b[32m---- Step 2.1 [using sub-agent name:<not-yet-provided>, id:XQJ6KAV7P1/JUZ0EVGCPO] ----\u001b[0m\n",
      "\u001b[33mTook 3.8s, using 2366 tokens (in: 2246, out: 120) to complete prior action, observe, orchestrate.\u001b[0m\n",
      "You haven't provided agents names. To do so provide a dictionary in the format {f'{agent_id}/{agent_alias_id}': f'{agent_name}'})\n",
      "\u001b[34mThe user is attempting to verify an employee ID. As an HR Assistant, I should always verify employee identity before providing any personalized information. I'll use the get_employee_info function to retrieve the details for this employee ID.\u001b[0m\n",
      "You haven't provided agents names. To do so provide a dictionary in the format {f'{agent_id}/{agent_alias_id}': f'{agent_name}'})\n",
      "\u001b[35mUsing tool: get_employee_info with these inputs:\u001b[0m\n",
      "\u001b[35m[{'name': 'emp_id', 'type': 'string', 'value': 'E001'}]\n",
      "\u001b[0m\n",
      "You haven't provided agents names. To do so provide a dictionary in the format {f'{agent_id}/{agent_alias_id}': f'{agent_name}'})\n",
      "\u001b[35m--tool outputs:\n",
      "{'nationality': 'United States', 'department': 'Engineering', 'travel_documents': {'national_id': '123-45-6789', 'passport_number': 'US123456789', 'has_global_entry': True}, 'grade': 'Senior', 'dietary_restrictions': 'None', 'emp_id': 'E001', 'email': 'john.smith@company.com', 'travel_budget_remaini...\n",
      "\u001b[0m\n",
      "You haven't provided agents names. To do so provide a dictionary in the format {f'{agent_id}/{agent_alias_id}': f'{agent_name}'})\n",
      "You haven't provided agents names. To do so provide a dictionary in the format {f'{agent_id}/{agent_alias_id}': f'{agent_name}'})\n",
      "\u001b[32m---- Step 2.2 [using sub-agent name:<not-yet-provided>, id:XQJ6KAV7P1/JUZ0EVGCPO] ----\u001b[0m\n",
      "\u001b[33mTook 5.0s, using 2801 tokens (in: 2703, out: 98) to complete prior action, observe, orchestrate.\u001b[0m\n",
      "You haven't provided agents names. To do so provide a dictionary in the format {f'{agent_id}/{agent_alias_id}': f'{agent_name}'})\n",
      "\u001b[34mI have successfully retrieved the employee information for employee ID E001. The employee has been verified as John Smith from the Engineering department. Now that I have confirmed the employee's identity, I can proceed with assisting them with any travel-related inquiries or requests they may have.\u001b[0m\n",
      "You haven't provided agents names. To do so provide a dictionary in the format {f'{agent_id}/{agent_alias_id}': f'{agent_name}'})\n",
      "\u001b[36mFinal response:\n",
      "Thank you for providing your employee ID. I've verified your identity, John. How can I assist you with your travel-related needs today?...\u001b[0m\n",
      "\u001b[35m\n",
      "----sub-agent hr_agent output text:\n",
      "Thank you for providing your employee ID. I've verified your identity, John. How can I assist you with your travel-related needs today?...\n",
      "\u001b[0m\n",
      "\u001b[32m---- Step 3 ----\u001b[0m\n",
      "\u001b[33mTook 2.1s, using 1647 tokens (in: 1593, out: 54) to complete prior action, observe, orchestrate.\u001b[0m\n",
      "\u001b[34mThe HR agent has verified the employee ID. Now I need to get the travel details from the user to proceed with flight and hotel bookings.\u001b[0m\n",
      "\u001b[36mFinal response:\n",
      "The HR agent has verified the employee ID. Now I need to get the travel details from the user to proceed with flight and hotel bookings.\n",
      "\n",
      "What are your travel plans? Please provide your origin, destination, and dates....\u001b[0m\n",
      "\u001b[33mAgent made a total of 5 LLM calls, using 8677 tokens (in: 8222, out: 455), and took 19.9 total seconds\u001b[0m\n",
      "====================\n",
      "The HR agent has verified the employee ID. Now I need to get the travel details from the user to proceed with flight and hotel bookings.\n",
      "\n",
      "What are your travel plans? Please provide your origin, destination, and dates.\n"
     ]
    }
   ],
   "source": [
    "# Test the supervisor agent\n",
    "response = agents.invoke(\n",
    "    \"\"\"Hi, I'm employee E001 and I need to book a business trip to NYC next week. I need both flight and hotel.\"\"\", \n",
    "    supervisor_agent_id, enable_trace=True\n",
    ")\n",
    "print(\"====================\")\n",
    "print(response)\n",
    "\n"
   ]
  },
  {
   "cell_type": "code",
   "execution_count": null,
   "id": "72dcb0d5-529d-4fc6-b871-030feff1fda5",
   "metadata": {},
   "outputs": [],
   "source": []
  }
 ],
 "metadata": {
  "kernelspec": {
   "display_name": "Python 3 (ipykernel)",
   "language": "python",
   "name": "python3"
  },
  "language_info": {
   "codemirror_mode": {
    "name": "ipython",
    "version": 3
   },
   "file_extension": ".py",
   "mimetype": "text/x-python",
   "name": "python",
   "nbconvert_exporter": "python",
   "pygments_lexer": "ipython3",
   "version": "3.12.9"
  }
 },
 "nbformat": 4,
 "nbformat_minor": 5
}
